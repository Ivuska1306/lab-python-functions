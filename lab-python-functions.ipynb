{
 "cells": [
  {
   "cell_type": "markdown",
   "id": "25d7736c-ba17-4aff-b6bb-66eba20fbf4e",
   "metadata": {},
   "source": [
    "# Lab | Functions"
   ]
  },
  {
   "cell_type": "markdown",
   "id": "0c581062-8967-4d93-b06e-62833222f930",
   "metadata": {
    "tags": []
   },
   "source": [
    "## Exercise: Managing Customer Orders with Functions\n",
    "\n",
    "In the previous exercise, you improved the code for managing customer orders by using loops and flow control. Now, let's take it a step further and refactor the code by introducing functions.\n",
    "\n",
    "Follow the steps below to complete the exercise:\n",
    "\n",
    "1. Define a function named `initialize_inventory` that takes `products` as a parameter. Inside the function, implement the code for initializing the inventory dictionary using a loop and user input.\n",
    "\n",
    "2. Define a function named `get_customer_orders` that takes no parameters. Inside the function, implement the code for prompting the user to enter the product names using a loop. The function should return the `customer_orders` set.\n",
    "\n",
    "3. Define a function named `update_inventory` that takes `customer_orders` and `inventory` as parameters. Inside the function, implement the code for updating the inventory dictionary based on the customer orders.\n",
    "\n",
    "4. Define a function named `calculate_order_statistics` that takes `customer_orders` and `products` as parameters. Inside the function, implement the code for calculating the order statistics (total products ordered, and percentage of unique products ordered). The function should return these values.\n",
    "\n",
    "5. Define a function named `print_order_statistics` that takes `order_statistics` as a parameter. Inside the function, implement the code for printing the order statistics.\n",
    "\n",
    "6. Define a function named `print_updated_inventory` that takes `inventory` as a parameter. Inside the function, implement the code for printing the updated inventory.\n",
    "\n",
    "7. Call the functions in the appropriate sequence to execute the program and manage customer orders.\n",
    "\n",
    "Hints for functions:\n",
    "\n",
    "- Consider the input parameters required for each function and their return values.\n",
    "- Utilize function parameters and return values to transfer data between functions.\n",
    "- Test your functions individually to ensure they work correctly.\n",
    "\n",
    "\n"
   ]
  },
  {
   "cell_type": "code",
   "execution_count": 5,
   "id": "8978b124-bd92-4133-9f30-45fecd3dec10",
   "metadata": {},
   "outputs": [
    {
     "name": "stdin",
     "output_type": "stream",
     "text": [
      "Please enter the quantity for t-shirt: 5\n",
      "Please enter the quantity for mug: 4\n",
      "Please enter the quantity for hat: 5\n",
      "Please enter the quantity for book: 1\n",
      "Please enter the quantity for keychain: 4\n",
      "Enter the name of a product you want to order:  mug\n",
      "Do you want to add another product? (yes/no):  hat\n"
     ]
    },
    {
     "name": "stdout",
     "output_type": "stream",
     "text": [
      "Order Statistics:\n",
      "Total Products Ordered: 1\n",
      "Percentage of Products Ordered:5.555555555555555%\n",
      "t-shirt:5\n",
      "mug:3\n",
      "hat:5\n",
      "book:1\n",
      "keychain:4\n"
     ]
    }
   ],
   "source": [
    " # Define a function named initialize_inventory that takes products as a parameter. Inside the function, implement the code for initializing the inventory dictionary using a loop and user input.\n",
    "\n",
    "def initialize_inventory(products):\n",
    "     inventory={}\n",
    "     for product in products:\n",
    "        quantity= input(f\"Please enter the quantity for {product}:\")\n",
    "        inventory[product]=int(quantity)\n",
    "     return inventory\n",
    " \n",
    "# Define a function named get_customer_orders that takes no parameters. Inside the function, implement the code for prompting the user to enter the product names using a loop. The function should return the customer_orders set.\n",
    "\n",
    "def get_customer_orders():\n",
    "    customer_orders = set()\n",
    "    while True:\n",
    "        product_name = input(\"Enter the name of a product you want to order: \")\n",
    "        if product_name in products:\n",
    "            customer_orders.add(product_name)\n",
    "            add_another = input(\"Do you want to add another product? (yes/no): \").lower()\n",
    "            if add_another != \"yes\":\n",
    "                break\n",
    "        else:\n",
    "            print(\"This product does not exist. Please enter a product name from the list.\")\n",
    "    return customer_orders\n",
    "\n",
    "  # Define a function named update_inventory that takes customer_orders and inventory as parameters. Inside the function, implement the code for updating the inventory dictionary based on the customer orders.\n",
    "\n",
    "def update_inventory(customer_orders,inventory):\n",
    "    for product in customer_orders:\n",
    "        if product in inventory:\n",
    "            inventory[product] -= 1\n",
    "\n",
    " # Define a function named calculate_order_statistics that takes customer_orders and products as parameters. Inside the function, implement the code for calculating the order statistics (total products ordered, and percentage of unique products ordered). The function should return these values.\n",
    "\n",
    "def calculate_order_statistics(customer_orders, products):\n",
    "    total_products_ordered=len(customer_orders)\n",
    "    percentage_of_products_ordered=(len(customer_orders)/sum(inventory.values())*100)\n",
    "    return total_products_ordered, percentage_of_products_ordered\n",
    " # Define a function named print_order_statistics that takes order_statistics as a parameter. Inside the function, implement the code for printing the order statistics.\n",
    "\n",
    "def print_order_statistics(order_statistics):\n",
    "        total_products_ordered, percentage_of_products_ordered = order_statistics\n",
    "        print(\"Order Statistics:\")\n",
    "        print(f\"Total Products Ordered: {total_products_ordered}\")\n",
    "        print(f\"Percentage of Products Ordered:{percentage_of_products_ordered}%\")\n",
    "\n",
    " #Define a function named print_updated_inventory that takes inventory as a parameter. Inside the function, implement the code for printing the updated inventory.\n",
    "\n",
    "def print_updated_inventory(inventory):\n",
    "    for product,quantity in inventory.items():\n",
    "        print(f\"{product}:{quantity}\")\n",
    "\n",
    "products = [\"t-shirt\", \"mug\", \"hat\", \"book\", \"keychain\"]  # Define the list of products\n",
    "inventory = initialize_inventory(products)  # Initializes the inventory with user input for each product\n",
    "customer_orders = get_customer_orders()  # Collects customer orders\n",
    "update_inventory(customer_orders, inventory)  # Updates the inventory based on customer orders\n",
    "order_statistics = calculate_order_statistics(customer_orders, products)  # Calculates order statistics\n",
    "print_order_statistics(order_statistics)  # Prints order statistics\n",
    "print_updated_inventory(inventory)  # Prints the updated inventory\n",
    "    \n",
    "    "
   ]
  },
  {
   "cell_type": "code",
   "execution_count": null,
   "id": "6b324d47-745c-405c-9b9b-b8746fb6d0c5",
   "metadata": {},
   "outputs": [],
   "source": []
  }
 ],
 "metadata": {
  "kernelspec": {
   "display_name": "Python 3 (ipykernel)",
   "language": "python",
   "name": "python3"
  },
  "language_info": {
   "codemirror_mode": {
    "name": "ipython",
    "version": 3
   },
   "file_extension": ".py",
   "mimetype": "text/x-python",
   "name": "python",
   "nbconvert_exporter": "python",
   "pygments_lexer": "ipython3",
   "version": "3.12.4"
  }
 },
 "nbformat": 4,
 "nbformat_minor": 5
}
